{
  "nbformat": 4,
  "nbformat_minor": 0,
  "metadata": {
    "colab": {
      "provenance": [],
      "authorship_tag": "ABX9TyNRLRYj4P6Fj5dO1YToyApy",
      "include_colab_link": true
    },
    "kernelspec": {
      "name": "python3",
      "display_name": "Python 3"
    },
    "language_info": {
      "name": "python"
    }
  },
  "cells": [
    {
      "cell_type": "markdown",
      "metadata": {
        "id": "view-in-github",
        "colab_type": "text"
      },
      "source": [
        "<a href=\"https://colab.research.google.com/github/OlgaHumphreys/goit-algo-hw-07/blob/main/goit_algo_hw_07.ipynb\" target=\"_parent\"><img src=\"https://colab.research.google.com/assets/colab-badge.svg\" alt=\"Open In Colab\"/></a>"
      ]
    },
    {
      "cell_type": "markdown",
      "source": [
        "Завдання 1\n",
        "Напишіть алгоритм (функцію), який знаходить найбільше значення у двійковому дереві пошуку або в AVL-дереві. Візьміть будь-яку реалізацію дерева з конспекту чи з іншого джерела."
      ],
      "metadata": {
        "id": "gbolq66L9Ax7"
      }
    },
    {
      "cell_type": "markdown",
      "source": [
        "BST"
      ],
      "metadata": {
        "id": "Qqj6hVTs9eFv"
      }
    },
    {
      "cell_type": "code",
      "execution_count": 1,
      "metadata": {
        "id": "XVAPnZVZ87DG"
      },
      "outputs": [],
      "source": [
        "class TreeNode:\n",
        "    def __init__(self, key):\n",
        "        self.left = None\n",
        "        self.right = None\n",
        "        self.val = key\n",
        "\n",
        "class BinarySearchTree:\n",
        "    def __init__(self):\n",
        "        self.root = None\n",
        "\n",
        "    def insert(self, key):\n",
        "        if self.root is None:\n",
        "            self.root = TreeNode(key)\n",
        "        else:\n",
        "            self._insert(self.root, key)\n",
        "\n",
        "    def _insert(self, node, key):\n",
        "        if key < node.val:\n",
        "            if node.left is None:\n",
        "                node.left = TreeNode(key)\n",
        "            else:\n",
        "                self._insert(node.left, key)\n",
        "        else:\n",
        "            if node.right is None:\n",
        "                node.right = TreeNode(key)\n",
        "            else:\n",
        "                self._insert(node.right, key)\n",
        "\n",
        "    def find_max(self):\n",
        "        if self.root is None:\n",
        "            return None\n",
        "        else:\n",
        "            return self._find_max(self.root)\n",
        "\n",
        "    def _find_max(self, node):\n",
        "        current = node\n",
        "        while current.right is not None:\n",
        "            current = current.right\n",
        "        return current.val\n"
      ]
    },
    {
      "cell_type": "markdown",
      "source": [
        "To find max result"
      ],
      "metadata": {
        "id": "E9fj3fFG9xU-"
      }
    },
    {
      "cell_type": "code",
      "source": [
        "def find_max_in_bst(tree):\n",
        "    if tree.root is None:\n",
        "        return None\n",
        "    return tree.find_max()\n"
      ],
      "metadata": {
        "id": "vVEcYTSL95LE"
      },
      "execution_count": 2,
      "outputs": []
    },
    {
      "cell_type": "markdown",
      "source": [
        "How to use"
      ],
      "metadata": {
        "id": "3H6oVeoV99p2"
      }
    },
    {
      "cell_type": "code",
      "source": [
        "bst = BinarySearchTree()\n",
        "bst.insert(10)\n",
        "bst.insert(20)\n",
        "bst.insert(5)\n",
        "bst.insert(15)\n",
        "bst.insert(30)\n",
        "\n",
        "max_value = find_max_in_bst(bst)\n",
        "print(\"The highest score:\", max_value)\n"
      ],
      "metadata": {
        "colab": {
          "base_uri": "https://localhost:8080/"
        },
        "id": "Is38AkMT9_yu",
        "outputId": "6a0f6513-5b34-44f3-b7ef-c81da4a08363"
      },
      "execution_count": 3,
      "outputs": [
        {
          "output_type": "stream",
          "name": "stdout",
          "text": [
            "The highest score: 30\n"
          ]
        }
      ]
    },
    {
      "cell_type": "markdown",
      "source": [
        "AVL - tree"
      ],
      "metadata": {
        "id": "Ast92SGz-QPD"
      }
    },
    {
      "cell_type": "code",
      "source": [
        "class AVLNode:\n",
        "    def __init__(self, key):\n",
        "        self.left = None\n",
        "        self.right = None\n",
        "        self.val = key\n",
        "        self.height = 1\n",
        "\n",
        "class AVLTree:\n",
        "    def __init__(self):\n",
        "        self.root = None\n",
        "\n",
        "    def insert(self, key):\n",
        "        if self.root is None:\n",
        "            self.root = AVLNode(key)\n",
        "        else:\n",
        "            self.root = self._insert(self.root, key)\n",
        "\n",
        "    def _insert(self, node, key):\n",
        "        if node is None:\n",
        "            return AVLNode(key)\n",
        "\n",
        "        if key < node.val:\n",
        "            node.left = self._insert(node.left, key)\n",
        "        else:\n",
        "            node.right = self._insert(node.right, key)\n",
        "\n",
        "        node.height = 1 + max(self._get_height(node.left), self._get_height(node.right))\n",
        "\n",
        "        balance = self._get_balance(node)\n",
        "\n",
        "        if balance > 1 and key < node.left.val:\n",
        "            return self._right_rotate(node)\n",
        "\n",
        "        if balance < -1 and key > node.right.val:\n",
        "            return self._left_rotate(node)\n",
        "\n",
        "        if balance > 1 and key > node.left.val:\n",
        "            node.left = self._left_rotate(node.left)\n",
        "            return self._right_rotate(node)\n",
        "\n",
        "        if balance < -1 and key < node.right.val:\n",
        "            node.right = self._right_rotate(node.right)\n",
        "            return self._left_rotate(node)\n",
        "\n",
        "        return node\n",
        "\n",
        "    def _left_rotate(self, z):\n",
        "        y = z.right\n",
        "        T2 = y.left\n",
        "\n",
        "        y.left = z\n",
        "        z.right = T2\n",
        "\n",
        "        z.height = 1 + max(self._get_height(z.left), self._get_height(z.right))\n",
        "        y.height = 1 + max(self._get_height(y.left), self._get_height(y.right))\n",
        "\n",
        "        return y\n",
        "\n",
        "    def _right_rotate(self, z):\n",
        "        y = z.left\n",
        "        T3 = y.right\n",
        "\n",
        "        y.right = z\n",
        "        z.left = T3\n",
        "\n",
        "        z.height = 1 + max(self._get_height(z.left), self._get_height(z.right))\n",
        "        y.height = 1 + max(self._get_height(y.left), self._get_height(y.right))\n",
        "\n",
        "        return y\n",
        "\n",
        "    def _get_height(self, node):\n",
        "        if not node:\n",
        "            return 0\n",
        "        return node.height\n",
        "\n",
        "    def _get_balance(self, node):\n",
        "        if not node:\n",
        "            return 0\n",
        "        return self._get_height(node.left) - self._get_height(node.right)\n",
        "\n",
        "    def find_max(self):\n",
        "        if self.root is None:\n",
        "            return None\n",
        "        else:\n",
        "            return self._find_max(self.root)\n",
        "\n",
        "    def _find_max(self, node):\n",
        "        current = node\n",
        "        while current.right is not None:\n",
        "            current = current.right\n",
        "        return current.val\n"
      ],
      "metadata": {
        "id": "NtFqyF2c-Smn"
      },
      "execution_count": 4,
      "outputs": []
    },
    {
      "cell_type": "markdown",
      "source": [
        "To find the highest score at AVL - tree"
      ],
      "metadata": {
        "id": "cGGc7ldx-d8Y"
      }
    },
    {
      "cell_type": "code",
      "source": [
        "def find_max_in_avl(tree):\n",
        "    if tree.root is None:\n",
        "        return None\n",
        "    return tree.find_max()\n"
      ],
      "metadata": {
        "id": "6Zr91xY6-lLI"
      },
      "execution_count": 5,
      "outputs": []
    },
    {
      "cell_type": "markdown",
      "source": [
        "How to use"
      ],
      "metadata": {
        "id": "OdZNVH-e-oXT"
      }
    },
    {
      "cell_type": "code",
      "source": [
        "avl_tree = AVLTree()\n",
        "avl_tree.insert(10)\n",
        "avl_tree.insert(20)\n",
        "avl_tree.insert(5)\n",
        "avl_tree.insert(15)\n",
        "avl_tree.insert(30)\n",
        "\n",
        "max_value_avl = find_max_in_avl(avl_tree)\n",
        "print(\"The highest score at AVL - tree:\", max_value_avl)\n"
      ],
      "metadata": {
        "colab": {
          "base_uri": "https://localhost:8080/"
        },
        "id": "s5nBYA0g-q3t",
        "outputId": "0267d437-7d59-4572-db22-c51dd9a4d7f6"
      },
      "execution_count": 6,
      "outputs": [
        {
          "output_type": "stream",
          "name": "stdout",
          "text": [
            "The highest score at AVL - tree: 30\n"
          ]
        }
      ]
    },
    {
      "cell_type": "markdown",
      "source": [
        "Завдання 2\n",
        "Напишіть алгоритм (функцію), який знаходить найменше значення у двійковому дереві пошуку або в AVL-дереві. Візьміть будь-яку реалізацію дерева з конспекту чи з іншого джерела.\n"
      ],
      "metadata": {
        "id": "AskRfSNo_IMi"
      }
    },
    {
      "cell_type": "code",
      "source": [
        "class TreeNode:\n",
        "    def __init__(self, key):\n",
        "        self.left = None\n",
        "        self.right = None\n",
        "        self.value = key\n",
        "\n",
        "def insert(root, key):\n",
        "    if root is None:\n",
        "        return TreeNode(key)\n",
        "    else:\n",
        "        if root.value < key:\n",
        "            root.right = insert(root.right, key)\n",
        "        else:\n",
        "            root.left = insert(root.left, key)\n",
        "    return root\n",
        "\n",
        "def find_min_value(node):\n",
        "    current = node\n",
        "    while current.left is not None:\n",
        "        current = current.left\n",
        "    return current.value\n",
        "\n",
        "# Exmaple\n",
        "root = None\n",
        "root = insert(root, 50)\n",
        "root = insert(root, 30)\n",
        "root = insert(root, 20)\n",
        "root = insert(root, 40)\n",
        "root = insert(root, 70)\n",
        "root = insert(root, 60)\n",
        "root = insert(root, 80)\n",
        "\n",
        "print(\"Find minimum value: \", find_min_value(root))\n"
      ],
      "metadata": {
        "colab": {
          "base_uri": "https://localhost:8080/"
        },
        "id": "EdkZFRpCFwSV",
        "outputId": "caa53d85-105e-4945-d926-53c0725a81a6"
      },
      "execution_count": 26,
      "outputs": [
        {
          "output_type": "stream",
          "name": "stdout",
          "text": [
            "Find minimum value:  20\n"
          ]
        }
      ]
    },
    {
      "cell_type": "markdown",
      "source": [],
      "metadata": {
        "id": "CnYOgNue_4Ut"
      }
    },
    {
      "cell_type": "markdown",
      "source": [
        "Завдання 3\n",
        "Напишіть алгоритм (функцію), який знаходить суму всіх значень у двійковому дереві пошуку або в AVL-дереві. Візьміть будь-яку реалізацію дерева з конспекту чи з іншого джерела."
      ],
      "metadata": {
        "id": "8koHGpweBrYB"
      }
    },
    {
      "cell_type": "code",
      "source": [
        "class TreeNode:\n",
        "    def __init__(self, key):\n",
        "        self.left = None\n",
        "        self.right = None\n",
        "        self.val = key\n",
        "\n",
        "class BinarySearchTree:\n",
        "    def __init__(self):\n",
        "        self.root = None\n",
        "\n",
        "    def insert(self, key):\n",
        "        if self.root is None:\n",
        "            self.root = TreeNode(key)\n",
        "        else:\n",
        "            self._insert(self.root, key)\n",
        "\n",
        "    def _insert(self, node, key):\n",
        "        if key < node.val:\n",
        "            if node.left is None:\n",
        "                node.left = TreeNode(key)\n",
        "            else:\n",
        "                self._insert(node.left, key)\n",
        "        else:\n",
        "            if node.right is None:\n",
        "                node.right = TreeNode(key)\n",
        "            else:\n",
        "                self._insert(node.right, key)\n",
        "\n",
        "    def sum_values(self):\n",
        "        return self._sum_values(self.root)\n",
        "\n",
        "    def _sum_values(self, node):\n",
        "        if node is None:\n",
        "            return 0\n",
        "        return node.val + self._sum_values(node.left) + self._sum_values(node.right)\n"
      ],
      "metadata": {
        "id": "M6t8xFB1Bssl"
      },
      "execution_count": 18,
      "outputs": []
    },
    {
      "cell_type": "code",
      "source": [
        "def sum_values_in_bst(tree):\n",
        "    if tree.root is None:\n",
        "        return 0\n",
        "    return tree.sum_values()\n"
      ],
      "metadata": {
        "id": "OkQq9kVaBzre"
      },
      "execution_count": 19,
      "outputs": []
    },
    {
      "cell_type": "code",
      "source": [
        "bst = BinarySearchTree()\n",
        "bst.insert(10)\n",
        "bst.insert(20)\n",
        "bst.insert(5)\n",
        "bst.insert(15)\n",
        "bst.insert(30)\n",
        "\n",
        "total_sum = sum_values_in_bst(bst)\n",
        "print(\"Sum of all values in Binary Tree:\", total_sum)\n"
      ],
      "metadata": {
        "colab": {
          "base_uri": "https://localhost:8080/"
        },
        "id": "2RivUL9qB0kv",
        "outputId": "26bc8948-2b09-4a66-f891-3091840f1d84"
      },
      "execution_count": 20,
      "outputs": [
        {
          "output_type": "stream",
          "name": "stdout",
          "text": [
            "Sum of all values in Binary Tree: 80\n"
          ]
        }
      ]
    },
    {
      "cell_type": "code",
      "source": [
        "class AVLNode:\n",
        "    def __init__(self, key):\n",
        "        self.left = None\n",
        "        self.right = None\n",
        "        self.val = key\n",
        "        self.height = 1\n",
        "\n",
        "class AVLTree:\n",
        "    def __init__(self):\n",
        "        self.root = None\n",
        "\n",
        "    def insert(self, key):\n",
        "        if self.root is None:\n",
        "            self.root = AVLNode(key)\n",
        "        else:\n",
        "            self.root = self._insert(self.root, key)\n",
        "\n",
        "    def _insert(self, node, key):\n",
        "        if node is None:\n",
        "            return AVLNode(key)\n",
        "\n",
        "        if key < node.val:\n",
        "            node.left = self._insert(node.left, key)\n",
        "        else:\n",
        "            node.right = self._insert(node.right, key)\n",
        "\n",
        "        node.height = 1 + max(self._get_height(node.left), self._get_height(node.right))\n",
        "\n",
        "        balance = self._get_balance(node)\n",
        "\n",
        "        if balance > 1 and key < node.left.val:\n",
        "            return self._right_rotate(node)\n",
        "\n",
        "        if balance < -1 and key > node.right.val:\n",
        "            return self._left_rotate(node)\n",
        "\n",
        "        if balance > 1 and key > node.left.val:\n",
        "            node.left = self._left_rotate(node.left)\n",
        "            return self._right_rotate(node)\n",
        "\n",
        "        if balance < -1 and key < node.right.val:\n",
        "            node.right = self._right_rotate(node.right)\n",
        "            return self._left_rotate(node)\n",
        "\n",
        "        return node\n",
        "\n",
        "    def _left_rotate(self, z):\n",
        "        y = z.right\n",
        "        T2 = y.left\n",
        "\n",
        "        y.left = z\n",
        "        z.right = T2\n",
        "\n",
        "        z.height = 1 + max(self._get_height(z.left), self._get_height(z.right))\n",
        "        y.height = 1 + max(self._get_height(y.left), self._get_height(y.right))\n",
        "\n",
        "        return y\n",
        "\n",
        "    def _right_rotate(self, z):\n",
        "        y = z.left\n",
        "        T3 = y.right\n",
        "\n",
        "        y.right = z\n",
        "        z.left = T3\n",
        "\n",
        "        z.height = 1 + max(self._get_height(z.left), self._get_height(z.right))\n",
        "        y.height = 1 + max(self._get_height(y.left), self._get_height(y.right))\n",
        "\n",
        "        return y\n",
        "\n",
        "    def _get_height(self, node):\n",
        "        if not node:\n",
        "            return 0\n",
        "        return node.height\n",
        "\n",
        "    def _get_balance(self, node):\n",
        "        if not node:\n",
        "            return 0\n",
        "        return self._get_height(node.left) - self._get_height(node.right)\n",
        "\n",
        "    def sum_values(self):\n",
        "        return self._sum_values(self.root)\n",
        "\n",
        "    def _sum_values(self, node):\n",
        "        if node is None:\n",
        "            return 0\n",
        "        return node.val + self._sum_values(node.left) + self._sum_values(node.right)\n"
      ],
      "metadata": {
        "id": "cdjqxaMoB5_X"
      },
      "execution_count": 21,
      "outputs": []
    },
    {
      "cell_type": "code",
      "source": [
        "def sum_values_in_avl(tree):\n",
        "    if tree.root is None:\n",
        "        return 0\n",
        "    return tree.sum_values()\n"
      ],
      "metadata": {
        "id": "y8uoM-eGB-ED"
      },
      "execution_count": 22,
      "outputs": []
    },
    {
      "cell_type": "code",
      "source": [
        "avl_tree = AVLTree()\n",
        "avl_tree.insert(10)\n",
        "avl_tree.insert(20)\n",
        "avl_tree.insert(5)\n",
        "avl_tree.insert(15)\n",
        "avl_tree.insert(30)\n",
        "\n",
        "total_sum_avl = sum_values_in_avl(avl_tree)\n",
        "print(\"Sum of all values in AVL tree:\", total_sum_avl)\n"
      ],
      "metadata": {
        "colab": {
          "base_uri": "https://localhost:8080/"
        },
        "id": "SZhezigCCAZh",
        "outputId": "1ab75b3e-24ef-4e07-89d2-63c6ebe1eecc"
      },
      "execution_count": 23,
      "outputs": [
        {
          "output_type": "stream",
          "name": "stdout",
          "text": [
            "Sum of all values in AVL tree: 80\n"
          ]
        }
      ]
    },
    {
      "cell_type": "markdown",
      "source": [],
      "metadata": {
        "id": "v3AnC9AlBwdu"
      }
    }
  ]
}